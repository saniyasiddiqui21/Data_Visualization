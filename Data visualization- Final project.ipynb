{
 "cells": [
  {
   "cell_type": "markdown",
   "id": "dfd1d379",
   "metadata": {},
   "source": [
    "# DATA VISUALIZATION PROJECT"
   ]
  },
  {
   "cell_type": "markdown",
   "id": "3eb1e2f7",
   "metadata": {},
   "source": [
    "Statement of Academic Honesty:\n",
    "The following code represents our own work. We have neither received nor given inappropriate assistance. We have not copied or modified code from any source other than the course webpage or the course textbook. We recognize that any unauthorized assistance or plagiarism will be handled in accordance with Georgia State University's Academic Honesty Policy and the policies of this course. We recognize that our work is based on an assignment created by the Institute for Insight at Georgia State University. Any publishing or posting of source code for this project is strictly prohibited unless you have written consent from the Institute for Insight at Georgia State University.\n",
    " "
   ]
  },
  {
   "cell_type": "code",
   "execution_count": null,
   "id": "37aff1f7",
   "metadata": {},
   "outputs": [],
   "source": [
    "#Importing all the required packages\n",
    "import numpy as np\n",
    "import pandas as pd \n",
    "import seaborn as sns\n",
    "import matplotlib.pyplot as plt\n",
    "%matplotlib inline \n",
    "from pylab import rcParams\n",
    "from pandas.api.types import CategoricalDtype\n",
    "import plotly.graph_objects as go\n",
    "import plotly.express as px\n",
    "import datetime\n",
    "from plotly.subplots import make_subplots\n",
    "import folium\n",
    "from folium.plugins import HeatMap\n",
    "import pandas_profiling\n",
    "\n",
    "import warnings\n",
    "warnings.filterwarnings(\"ignore\")\n",
    "pd.set_option('display.max_rows', None)\n",
    "pd.set_option(\"display.float_format\",lambda x: \"%.5f\" % x)\n",
    "pd.set_option(\"display.max_columns\",None)\n",
    "\n",
    "from wordcloud import WordCloud, STOPWORDS\n",
    "import urllib\n",
    "from PIL import Image\n",
    "import seaborn as sns\n",
    "import plotly.express as px\n",
    "from datetime import datetime\n"
   ]
  },
  {
   "cell_type": "markdown",
   "id": "8a68f1be",
   "metadata": {},
   "source": [
    "### Reading Data from CSV"
   ]
  },
  {
   "cell_type": "code",
   "execution_count": null,
   "id": "ce5ac3b2",
   "metadata": {
    "scrolled": true
   },
   "outputs": [],
   "source": [
    "#Build dataframe from dataset\n",
    "df = pd.read_csv('crime.csv', encoding='latin-1')\n",
    "top5_crime=data=crime=df\n",
    "crime.head()"
   ]
  },
  {
   "cell_type": "markdown",
   "id": "f4e5d21c",
   "metadata": {},
   "source": [
    "### Data Pre-Processing"
   ]
  },
  {
   "cell_type": "code",
   "execution_count": null,
   "id": "6c173e80",
   "metadata": {},
   "outputs": [],
   "source": [
    "df = df.drop(['SHOOTING','OFFENSE_CODE'], axis=1)\n",
    "\n",
    "df['OCCURRED_ON_DATE'] = pd.to_datetime(df['OCCURRED_ON_DATE'])\n",
    "\n",
    "df[\"DAY_OF_WEEK\"] = pd.Categorical(df[\"DAY_OF_WEEK\"], \n",
    "              categories=['Monday','Tuesday','Wednesday','Thursday','Friday','Saturday','Sunday'],\n",
    "              ordered=True)"
   ]
  },
  {
   "cell_type": "code",
   "execution_count": null,
   "id": "e0205eda",
   "metadata": {},
   "outputs": [],
   "source": [
    "rename = {'OFFENSE_CODE_GROUP':'Group',\n",
    "          'OFFENSE_DESCRIPTION':'Description',\n",
    "          'DISTRICT':'District',\n",
    "          'STREET':'Street',        \n",
    "          'OCCURRED_ON_DATE':'Date',\n",
    "          'YEAR':'Year',\n",
    "          'MONTH':'Month',\n",
    "          'DAY_OF_WEEK':'Day',\n",
    "          'HOUR':'Hour'}\n",
    "\n",
    "df.rename(index=str, columns=rename, inplace=True)\n",
    "\n",
    "# new feature\n",
    "def create_features(df):\n",
    "    df['dayofweek'] = df['Date'].dt.dayofweek\n",
    "    df['quarter'] = df['Date'].dt.quarter\n",
    "    df['dayofyear'] = df['Date'].dt.dayofyear\n",
    "    df['dayofmonth'] = df['Date'].dt.day\n",
    "    df['weekofyear'] = df['Date'].dt.weekofyear\n",
    "    \n",
    "    X = df[['dayofweek','quarter','dayofyear',\n",
    "            'dayofmonth','weekofyear']]\n",
    "    return X\n",
    "create_features(df).head()\n",
    "\n",
    "# CategoricalDytpe\n",
    "df.quarter    = df.quarter.astype(CategoricalDtype())\n",
    "df.dayofweek    = df.dayofweek.astype(CategoricalDtype())\n",
    "df.dayofyear    = df.dayofyear.astype(CategoricalDtype())\n",
    "df.dayofmonth    = df.dayofmonth.astype(CategoricalDtype())\n",
    "\n",
    "\n",
    "df.head()"
   ]
  },
  {
   "cell_type": "code",
   "execution_count": null,
   "id": "426cc207",
   "metadata": {},
   "outputs": [],
   "source": [
    "df.apply(pd.Series.nunique)"
   ]
  },
  {
   "cell_type": "code",
   "execution_count": null,
   "id": "85cb01db",
   "metadata": {},
   "outputs": [],
   "source": [
    "df.drop_duplicates(subset=\"INCIDENT_NUMBER\", inplace=True)"
   ]
  },
  {
   "cell_type": "code",
   "execution_count": null,
   "id": "03c58909",
   "metadata": {
    "scrolled": true
   },
   "outputs": [],
   "source": [
    "df = df.dropna(axis=0)\n",
    "print(df.isnull().sum(),\"\\nShape:\",df.shape)"
   ]
  },
  {
   "cell_type": "markdown",
   "id": "df1118d9",
   "metadata": {},
   "source": [
    "## Word Cloud"
   ]
  },
  {
   "cell_type": "code",
   "execution_count": null,
   "id": "c3521538",
   "metadata": {},
   "outputs": [],
   "source": [
    "#Using wordcloud to show the types of crime most prominent in Boston\n",
    "\n",
    "def random_color_func(word=None, font_size=None, position=None, orientation=None, font_path=None, random_state=None):\n",
    "    h = int(360.0 * 45.0 / 255.0)\n",
    "    s = int(100.0 * 255.0 / 255.0)\n",
    "    l = int(100.0 * float(random_state.randint(60, 120)) / 255.0)\n",
    "\n",
    "    return \"hsl({}, {}%, {}%)\".format(h, s, l)\n",
    "\n",
    "file_content=open (\"bos_crime.txt\",encoding=\"utf8\").read()\n",
    "\n",
    "homeless_youth = WordCloud(font_path = r'C:\\Windows\\Fonts\\Verdana.ttf',\n",
    "                            stopwords = STOPWORDS,\n",
    "                            background_color = 'white'\n",
    "                            ).generate(file_content)\n",
    "\n",
    "fig = plt.figure(figsize=(12,8))\n",
    "plt.imshow(homeless_youth,interpolation='bilinear')\n",
    "plt.axis('off')\n",
    "plt.show()"
   ]
  },
  {
   "cell_type": "code",
   "execution_count": null,
   "id": "74c20683",
   "metadata": {},
   "outputs": [],
   "source": [
    "#Masking the word cloud in the map of Massachusetts state of US as Boston is the capital of Massachusetts\n",
    "\n",
    "custom_mask = np.array(Image.open(r'ma.png'))\n",
    "fig = plt.figure(figsize=(20,15))"
   ]
  },
  {
   "cell_type": "code",
   "execution_count": null,
   "id": "020e5432",
   "metadata": {},
   "outputs": [],
   "source": [
    "stopwordsm = set(STOPWORDS)\n",
    "stopwordsm.add('Motor')\n",
    "crime_WC = WordCloud(background_color='Black',\n",
    "                    max_words = 2000,\n",
    "                    stopwords = stopwordsm,\n",
    "                    mask = custom_mask\n",
    "                          ).generate(file_content)\n",
    "\n",
    "\n",
    "fig = plt.figure(figsize=(20,15))\n",
    "plt.imshow(crime_WC,interpolation='bilinear')\n",
    "plt.axis('off')\n",
    "plt.show()"
   ]
  },
  {
   "cell_type": "markdown",
   "id": "dc20e900",
   "metadata": {},
   "source": [
    "### The world cloud shows the types of crimes that have happened in Boston with prominent words depicting the frequency of crime."
   ]
  },
  {
   "cell_type": "code",
   "execution_count": null,
   "id": "1ae34abd",
   "metadata": {},
   "outputs": [],
   "source": [
    "# Top 6 most frequently occuring crimes in Boston\n",
    "z = crime['OFFENSE_CODE_GROUP'].value_counts()\n",
    "y = pd.DataFrame(z)\n",
    "x = y.head(7)\n",
    "x"
   ]
  },
  {
   "cell_type": "code",
   "execution_count": null,
   "id": "b78349e7",
   "metadata": {},
   "outputs": [],
   "source": [
    "x.reset_index(level=0, inplace=True)\n",
    "x"
   ]
  },
  {
   "cell_type": "code",
   "execution_count": null,
   "id": "60be93a2",
   "metadata": {},
   "outputs": [],
   "source": [
    "x.rename(columns={\"index\": \"CRIME\",\"OFFENSE_CODE_GROUP\": \"NUMBER OF INCIDENTS\"},inplace=True)\n",
    "x"
   ]
  },
  {
   "cell_type": "code",
   "execution_count": null,
   "id": "c186ffce",
   "metadata": {},
   "outputs": [],
   "source": [
    "w = x.drop([4])\n",
    "w"
   ]
  },
  {
   "cell_type": "markdown",
   "id": "35750a14",
   "metadata": {},
   "source": [
    "## Pie Chart"
   ]
  },
  {
   "cell_type": "code",
   "execution_count": null,
   "id": "1b32fa87",
   "metadata": {},
   "outputs": [],
   "source": [
    "colors_list = ['#030764','#0000FF','#069AF3','skyblue','#06C2AC','#7FFFD4']\n",
    "\n",
    "w['NUMBER OF INCIDENTS'].plot(kind='pie',\n",
    "                            figsize=(15, 6),\n",
    "                            autopct='%1.1f%%', \n",
    "                            startangle=90,         \n",
    "                            labels=None,\n",
    "                            pctdistance=1.12,\n",
    "                            colors=colors_list,\n",
    "                            shadow=True, \n",
    "                            )\n",
    "\n",
    "plt.title('TOP 6 CRIMES OCCURING FREQUENTLY IN BOSTON')\n",
    "plt.axis('equal')\n",
    "plt.legend(labels=w['CRIME'], loc='upper left')\n",
    "\n",
    "plt.show()"
   ]
  },
  {
   "cell_type": "markdown",
   "id": "dda482c3",
   "metadata": {},
   "source": [
    "### It shows the percentage contribution of top 6 major crimes in Boston."
   ]
  },
  {
   "cell_type": "code",
   "execution_count": null,
   "id": "cba3b670",
   "metadata": {},
   "outputs": [],
   "source": [
    "# Details of number of crimes depending on UCR (Uniform Crime Reporting) in Boston\n",
    "e = crime.groupby(['UCR_PART','OFFENSE_CODE_GROUP'])[['OFFENSE_CODE_GROUP']].count().rename(columns = {'OFFENSE_CODE_GROUP':'NUMBER_OF_CRIMES'}).reset_index()\n",
    "e.head()"
   ]
  },
  {
   "cell_type": "markdown",
   "id": "69f09686",
   "metadata": {},
   "source": [
    "## Sunburst in Plotly"
   ]
  },
  {
   "cell_type": "code",
   "execution_count": null,
   "id": "cf141bfc",
   "metadata": {},
   "outputs": [],
   "source": [
    "px.sunburst(e, values=\"NUMBER_OF_CRIMES\", color=\"NUMBER_OF_CRIMES\", path=[\"UCR_PART\",\"OFFENSE_CODE_GROUP\"], color_continuous_scale = 'orrd')"
   ]
  },
  {
   "cell_type": "code",
   "execution_count": null,
   "id": "77b4788d",
   "metadata": {},
   "outputs": [],
   "source": [
    "moter_vehicle_dict ={} # dictionary\n",
    "larceny_dict = {}\n",
    "medical_assistance_dict = {}\n",
    "investigate_person_dict = {}\n",
    "drug_violation_dict = {}\n",
    "\n",
    "years = top5_crime[\"YEAR\"].unique()\n",
    "for year in years :\n",
    "    moter_vehicle_dict[year]=0\n",
    "    larceny_dict[year]=0\n",
    "    medical_assistance_dict[year]=0\n",
    "    investigate_person_dict[year]=0\n",
    "    drug_violation_dict[year]=0\n",
    "for elem in top5_crime[top5_crime[\"OFFENSE_CODE_GROUP\"]==\"Motor Vehicle Accident Response\"][\"YEAR\"]:\n",
    "    if elem in moter_vehicle_dict.keys():\n",
    "        moter_vehicle_dict[elem] += 1\n",
    "\n",
    "for elem in top5_crime[top5_crime[\"OFFENSE_CODE_GROUP\"]==\"Larceny\"][\"YEAR\"]:\n",
    "    if elem in larceny_dict.keys():\n",
    "        larceny_dict[elem] += 1\n",
    "        \n",
    "for elem in top5_crime[top5_crime[\"OFFENSE_CODE_GROUP\"]==\"Medical Assistance\"][\"YEAR\"]:\n",
    "    if elem in medical_assistance_dict.keys():\n",
    "        medical_assistance_dict[elem] += 1\n",
    "        \n",
    "for elem in top5_crime[top5_crime[\"OFFENSE_CODE_GROUP\"]==\"Investigate Person\"][\"YEAR\"]:\n",
    "    if elem in investigate_person_dict.keys():\n",
    "        investigate_person_dict[elem] += 1\n",
    "        \n",
    "for elem in top5_crime[top5_crime[\"OFFENSE_CODE_GROUP\"]==\"Drug Violation\"][\"YEAR\"]:\n",
    "    if elem in drug_violation_dict.keys():\n",
    "        drug_violation_dict[elem] += 1\n",
    "        \n",
    "        \n",
    "# # Let's order the above dictionaries for proper plotting\n",
    "years=[2015,2016,2017,2018]\n",
    "moter_vehicle_list = [(k,moter_vehicle_dict[k]) for k in years]\n",
    "larceny_list = [(k,larceny_dict[k]) for k in years]\n",
    "medical_assistance_list = [(k,medical_assistance_dict[k]) for k in years]\n",
    "investigate_person_list = [(k,investigate_person_dict[k]) for k in years]\n",
    "drug_violation_list = [(k,drug_violation_dict[k]) for k in years]\n",
    "\n"
   ]
  },
  {
   "cell_type": "code",
   "execution_count": null,
   "id": "9a3358bf",
   "metadata": {},
   "outputs": [],
   "source": [
    "# Plotting the graphs\n",
    "\n",
    "plt.style.use('seaborn-dark')\n",
    "#sns.set(rc={'axes.facecolor':'A0D7E6', 'figure.facecolor':'ffffff'})\n",
    "fig, ax = plt.subplots(figsize=(10,10))\n",
    "\n",
    "ax.spines[\"top\"].set_visible(False)\n",
    "ax.spines[\"bottom\"].set_visible(False)\n",
    "ax.spines[\"right\"].set_visible(False)    \n",
    "ax.spines[\"left\"].set_visible(False)  \n",
    "\n",
    "# Setting the ticks only on the bottom and the left of the graph\n",
    "ax.get_xaxis().tick_bottom()    \n",
    "ax.get_yaxis().tick_left()   \n",
    "\n",
    "labels = [2015,2016,2017,2018]\n",
    "plt.xticks(labels, fontsize=14)\n",
    "plt.yticks(fontsize=14)\n",
    "\n",
    "plt.ylim(500, 15000)\n",
    "\n",
    "x = [z[0] for z in moter_vehicle_list]\n",
    "# print(x)\n",
    "y = [z[1] for z in moter_vehicle_list]\n",
    "ax.plot(x,y, color=\"black\",label='Moter Vehicle Accident Response')\n",
    "ax.lines[0].set_linestyle(\"--\")\n",
    "\n",
    "x = [z[0] for z in larceny_list]\n",
    "y = [z[1] for z in larceny_list]\n",
    "ax.plot(x,y, color=\"red\",label='Larceny')\n",
    "ax.lines[1].set_linestyle(\"--\")\n",
    "\n",
    "x = [z[0] for z in medical_assistance_list]\n",
    "y = [z[1] for z in medical_assistance_list]\n",
    "ax.plot(x,y, color=\"blue\",label='Medical Assistance')\n",
    "ax.lines[2].set_linestyle(\"--\")\n",
    "\n",
    "x = [z[0] for z in investigate_person_list]\n",
    "y = [z[1] for z in investigate_person_list]\n",
    "ax.plot(x,y, color=\"orange\",label='Investigate Person')\n",
    "ax.lines[3].set_linestyle(\"--\")\n",
    "\n",
    "# x,y = zip(*dec_prac.items())\n",
    "x = [z[0] for z in drug_violation_list]\n",
    "y = [z[1] for z in drug_violation_list]\n",
    "ax.plot(x,y, color=\"green\",label='Drug Violation')\n",
    "ax.lines[4].set_linestyle(\"--\")\n",
    "\n",
    "\n",
    "for tick in ax.get_xticklabels():\n",
    "    tick.set_rotation(90)\n",
    "    \n",
    "plt.text(2018,8000,\"Moter Vehicle Accident Response\",fontsize=10)\n",
    "plt.text(2018,5000,\"Larceny\",fontsize=10,color=\"red\")\n",
    "plt.text(2018,5500,\"Medical Assistance\",fontsize=10,color=\"blue\")\n",
    "plt.text(2018,3700,\"Investigate Person\",fontsize=10,color=\"orange\")\n",
    "plt.text(2018,3000,\"Drug Violation\",fontsize=10,color=\"green\")\n",
    "\n",
    "ax.set_title(\"Frequency of Most Occuring Top 5 Crimes\\n\",fontname=\"monospace\", fontsize=10)\n",
    "ax.set_xlabel(\"Year\", fontsize=18)\n",
    "ax.set_ylabel(\"Number of Crimes\\n\", fontsize=16)\n",
    "\n",
    "    \n",
    "plt.show()\n"
   ]
  },
  {
   "cell_type": "markdown",
   "id": "e65cf0cf",
   "metadata": {},
   "source": [
    "### 1. Motor Vehicle Accident Response has the highest number of incidents over the yeats 2015-2018\n",
    "### 2. All offences were at their peak during 2016-2017\n",
    "### 3. Investigate person and drug violation has a smoother curve as compared to others"
   ]
  },
  {
   "cell_type": "markdown",
   "id": "3fd2bdd8",
   "metadata": {},
   "source": [
    "## Crime Vs Time"
   ]
  },
  {
   "cell_type": "code",
   "execution_count": null,
   "id": "7a3a5b2a",
   "metadata": {},
   "outputs": [],
   "source": [
    "top5_crime.loc[top5_crime['MONTH'] == 1, 'MONTH'] = 'January'\n",
    "top5_crime.loc[top5_crime['MONTH'] == 2, 'MONTH'] = 'February'\n",
    "top5_crime.loc[top5_crime['MONTH'] == 3, 'MONTH'] = 'March'\n",
    "top5_crime.loc[top5_crime['MONTH'] == 4, 'MONTH'] = 'April'\n",
    "top5_crime.loc[top5_crime['MONTH'] == 5, 'MONTH'] = 'May'\n",
    "top5_crime.loc[top5_crime['MONTH'] == 6, 'MONTH'] = 'June'\n",
    "top5_crime.loc[top5_crime['MONTH'] == 7, 'MONTH'] = 'July'\n",
    "top5_crime.loc[top5_crime['MONTH'] == 8, 'MONTH'] = 'August'\n",
    "top5_crime.loc[top5_crime['MONTH'] == 9, 'MONTH'] = 'September'\n",
    "top5_crime.loc[top5_crime['MONTH'] == 10, 'MONTH'] = 'October'\n",
    "top5_crime.loc[top5_crime['MONTH'] == 11, 'MONTH'] = 'November'\n",
    "top5_crime.loc[top5_crime['MONTH'] == 12, 'MONTH'] = 'December'"
   ]
  },
  {
   "cell_type": "code",
   "execution_count": null,
   "id": "58d59577",
   "metadata": {},
   "outputs": [],
   "source": [
    "plt.style.use('ggplot')\n",
    "sns.set_context('notebook')\n",
    "\n",
    "# Code to plot\n",
    "sns.countplot(y='MONTH', data=top5_crime,order=['January', 'February', 'March', 'April', 'May', 'June', \"July\", 'August', 'September', 'October','November','December'])\n",
    "\n",
    "# Aesthetic appeal of the plot \n",
    "plt.title(\"Crimes rise during Summer !\", fontdict={'fontsize': 40, 'color': '#DF0D0D', 'fontname':'Agency FB'}, weight=\"bold\")\n",
    "plt.ylabel(\"Month\\n\", fontdict={'fontsize': 20}, weight=\"bold\", color=\"#833636\")\n",
    "plt.xlabel(\"\\nNumber of Crimes\", fontdict={'fontsize': 20}, weight=\"bold\", color=\"#833636\")\n",
    "\n",
    "plt.xticks(fontsize=15,color='black')\n",
    "plt.yticks(fontsize=15, color='black')\n",
    "plt.show()"
   ]
  },
  {
   "cell_type": "markdown",
   "id": "83f32178",
   "metadata": {},
   "source": [
    "### When temperatures are extremely cold or hot, people stay indoors. But as temperatures become more comfortable, more people are outdoors, which presents greater opportunities for crime."
   ]
  },
  {
   "cell_type": "code",
   "execution_count": null,
   "id": "35715cf5",
   "metadata": {},
   "outputs": [],
   "source": [
    "# Set plot style\n",
    "plt.style.use('seaborn-dark')\n",
    "sns.set_context('paper')\n",
    "\n",
    "# Write code to plot\n",
    "fig, ax = plt.subplots(figsize=(10, 5))\n",
    "sns.countplot(x='HOUR', data=top5_crime, palette=\"viridis\")\n",
    "\n",
    "# Aesthetic appeal\n",
    "plt.title(\"Unsafest Hours in Boston\", fontdict={'fontsize': 40, 'color': '#bb0e14','fontname':'Agency FB'}, weight=\"bold\")\n",
    "plt.xlabel(\"\\nHour in the Day\", fontdict={'fontsize': 15}, weight='bold')\n",
    "plt.ylabel(\"Number of Crimes\\n\", fontdict={'fontsize': 15}, weight=\"bold\")\n",
    "\n",
    "# Add Text to the plot\n",
    "plt.text(2.5, 5500, 'Lowest Crime Rate', fontdict={'fontsize': 10, 'color':\"blue\" }, weight='bold')\n",
    "\n",
    "plt.show()"
   ]
  },
  {
   "cell_type": "markdown",
   "id": "dde4703f",
   "metadata": {},
   "source": [
    "## Criminals need to sleep too"
   ]
  },
  {
   "cell_type": "code",
   "execution_count": null,
   "id": "00e41527",
   "metadata": {},
   "outputs": [],
   "source": [
    "plt.style.use('ggplot')\n",
    "# An analysis of the 24 hour pattern for crimes\n",
    "# c = input(\"Enter the crime you wish to see the 24 hour pattern off >> \")\n",
    "\n",
    "crime_df = top5_crime[top5_crime['OFFENSE_CODE_GROUP']== 'Motor Vehicle Accident Response']\n",
    "hours = [int(x) for x in list(crime_df['HOUR'].unique())]\n",
    "hours = sorted(hours)\n",
    "# print(hours)\n",
    "\n",
    "h_cri = list(crime_df['HOUR'].value_counts().sort_index())\n",
    "# print(bur_cri)\n",
    "\n",
    "fig, ax = plt.subplots(figsize=(10, 5))\n",
    "sns.barplot(x=hours, y=h_cri, palette='inferno')\n",
    "\n",
    "# Aesthetic appeal\n",
    "tit = \"Motor Vehicle Accident over 24 Hours\"\n",
    "plt.title(tit, fontdict={'fontsize': 40, 'color': '#bb0e14','fontname':'Agency FB'}, weight=\"bold\")\n",
    "plt.xlabel(\"\\nHour in the Day\", fontdict={'fontsize': 20}, weight='bold')\n",
    "plt.ylabel(\"Number of Crimes\\n\", fontdict={'fontsize': 20}, weight=\"bold\")\n",
    "plt.yticks(fontsize=15)\n",
    "plt.xticks(fontsize=15)\n",
    "\n",
    "# show plot\n",
    "plt.show()"
   ]
  },
  {
   "cell_type": "markdown",
   "id": "8d46f48a",
   "metadata": {},
   "source": [
    "### Maximum between 4pm to 6pm because there are more vehicles on the road due to office hour rush"
   ]
  },
  {
   "cell_type": "code",
   "execution_count": null,
   "id": "4e9a2c54",
   "metadata": {},
   "outputs": [],
   "source": [
    "plt.style.use('ggplot')\n",
    "# An analysis of the 24 hour pattern for crimes\n",
    "# c = input(\"Enter the crime you wish to see the 24 hour pattern off >> \")\n",
    "\n",
    "crime_df = top5_crime[top5_crime['OFFENSE_CODE_GROUP']== 'Towed']\n",
    "hours = [int(x) for x in list(crime_df['HOUR'].unique())]\n",
    "hours = sorted(hours)\n",
    "# print(hours)\n",
    "\n",
    "h_cri = list(crime_df['HOUR'].value_counts().sort_index())\n",
    "# print(bur_cri)\n",
    "\n",
    "fig, ax = plt.subplots(figsize=(10, 5))\n",
    "sns.barplot(x=hours, y=h_cri, palette='inferno')\n",
    "\n",
    "# Aesthetic appeal\n",
    "tit = \"Towed over 24 Hours\"\n",
    "plt.title(tit, fontdict={'fontsize': 40, 'color': '#bb0e14','fontname':'Agency FB'}, weight=\"bold\")\n",
    "plt.xlabel(\"\\nHour in the Day\", fontdict={'fontsize': 20}, weight='bold')\n",
    "plt.ylabel(\"Number of Crimes\\n\", fontdict={'fontsize': 20}, weight=\"bold\")\n",
    "plt.yticks(fontsize=15)\n",
    "plt.xticks(fontsize=15)\n",
    "\n",
    "# show plot\n",
    "plt.show()"
   ]
  },
  {
   "cell_type": "markdown",
   "id": "eb00d17e",
   "metadata": {},
   "source": [
    "### Cars get towed in between 7am to 10am because street sweeping is done during morning time"
   ]
  },
  {
   "cell_type": "code",
   "execution_count": null,
   "id": "5aa55fef",
   "metadata": {},
   "outputs": [],
   "source": [
    "# Crimes by day of the week\n",
    "sns.catplot(x='DAY_OF_WEEK',\n",
    "           kind='count',\n",
    "            height=8, \n",
    "            aspect=3,\n",
    "           data=data)\n",
    "plt.xticks(size=30)\n",
    "plt.yticks(size=30)\n",
    "plt.xlabel(' ',fontsize=40)\n",
    "plt.ylabel('Number of Crimes', fontsize=40)"
   ]
  },
  {
   "cell_type": "markdown",
   "id": "83837787",
   "metadata": {},
   "source": [
    "### Friday has the highest crime rate. It appears that the high number of crimes committed on Friday was triggered by the fact that many people were out on Friday night due to Saturday being a holiday. Other days do not have a significant variance but Sunday has the lowest rate. The fact that most of the people spend Sundays at home may be a factor that reduces crime"
   ]
  },
  {
   "cell_type": "code",
   "execution_count": null,
   "id": "d42c4c94",
   "metadata": {},
   "outputs": [],
   "source": [
    "# Crimes by Year upon year\n",
    "sns.catplot(x='YEAR',\n",
    "           kind='count',\n",
    "            height=8, \n",
    "            aspect=3,\n",
    "           data=data)\n",
    "plt.xticks(size=30)\n",
    "plt.yticks(size=30)\n",
    "plt.xlabel('Year ',fontsize=40)\n",
    "plt.ylabel('Number of Crimes', fontsize=40)"
   ]
  },
  {
   "cell_type": "markdown",
   "id": "21cab339",
   "metadata": {},
   "source": [
    "Below contribution is from Abhishek Bhagat"
   ]
  },
  {
   "cell_type": "markdown",
   "id": "cecd0929",
   "metadata": {},
   "source": [
    "## Distribution of top three crimes on Boston Map "
   ]
  },
  {
   "cell_type": "markdown",
   "id": "6a039ee4",
   "metadata": {},
   "source": [
    "**Motor Vehicle Accident Response**"
   ]
  },
  {
   "cell_type": "code",
   "execution_count": null,
   "id": "e9d4bf84",
   "metadata": {},
   "outputs": [],
   "source": [
    "map_hooray = folium.Map(location=[42.361145,-71.057083],\n",
    "                    zoom_start = 12, min_zoom=12) \n",
    "\n",
    "heat_df = df[df['Year']==2017]\n",
    "heat_df =df[df['Group']=='Motor Vehicle Accident Response']\n",
    "heat_df = df[['Lat','Long']]\n",
    "\n",
    "\n",
    "heat_data = [[row['Lat'],row['Long']] for index, row in df.iterrows()]\n",
    "HeatMap(heat_data, radius=10).add_to(map_hooray)\n",
    "map_hooray"
   ]
  },
  {
   "cell_type": "markdown",
   "id": "4d281c82",
   "metadata": {},
   "source": [
    "**Medical Assistance**"
   ]
  },
  {
   "cell_type": "code",
   "execution_count": null,
   "id": "e5fbfcd9",
   "metadata": {},
   "outputs": [],
   "source": [
    "map_hooray = folium.Map(location=[42.361145,-71.057083],\n",
    "                    zoom_start = 10, min_zoom=12) \n",
    "\n",
    "heat_df = df[df['Year']==2017]\n",
    "heat_df =df[df['Group']=='Medical Assistance']\n",
    "heat_df = df[['Lat','Long']]\n",
    "\n",
    "\n",
    "heat_data = [[row['Lat'],row['Long']] for index, row in df.iterrows()]\n",
    "HeatMap(heat_data, radius=10).add_to(map_hooray)\n",
    "map_hooray"
   ]
  },
  {
   "cell_type": "markdown",
   "id": "2cab724b",
   "metadata": {},
   "source": [
    "**Larceny**"
   ]
  },
  {
   "cell_type": "code",
   "execution_count": null,
   "id": "589839f8",
   "metadata": {},
   "outputs": [],
   "source": [
    "map_hooray = folium.Map(location=[42.361145,-71.057083],\n",
    "                    zoom_start = 12, min_zoom=12) \n",
    "\n",
    "heat_df = df[df['Year']==2016]\n",
    "heat_df =df[df['Group']=='Larceny']\n",
    "heat_df = df[['Lat','Long']]\n",
    "\n",
    "\n",
    "heat_data = [[row['Lat'],row['Long']] for index, row in df.iterrows()]\n",
    "HeatMap(heat_data, radius=10).add_to(map_hooray)\n",
    "map_hooray"
   ]
  },
  {
   "cell_type": "markdown",
   "id": "17124d6d",
   "metadata": {},
   "source": [
    "**Distribution of all the crimes in the Boston**"
   ]
  },
  {
   "cell_type": "markdown",
   "id": "64e2cc1d",
   "metadata": {},
   "source": [
    "Below contribution is from Kunal Jha"
   ]
  },
  {
   "cell_type": "code",
   "execution_count": null,
   "id": "fe1dfcbe",
   "metadata": {},
   "outputs": [],
   "source": [
    "my = data.dropna()\n",
    "df_counters = pd.DataFrame(\n",
    "    {'ID' : id,\n",
    "     'Name' : my.OFFENSE_CODE_GROUP,\n",
    "     'lat' : my.Lat,\n",
    "     'long' : my.Long,\n",
    "     'region' : my.DISTRICT,\n",
    "     'year': my.YEAR,\n",
    "     'month': my.MONTH\n",
    "    })\n",
    "\n",
    "arrayName = []\n",
    "for i in my.OFFENSE_CODE_GROUP:\n",
    "    arrayName.append(i)\n",
    "df_counters.head()\n",
    "locations = df_counters[['lat', 'long']]\n",
    "locationlist = locations.values.tolist()\n",
    "BostonMap=folium.Map(location=[42.36,-71.05],zoom_start=11)\n",
    "for point in range(0, len(locationlist)):\n",
    "    string = arrayName[point]\n",
    "    folium.Marker(locationlist[point], popup=string).add_to(BostonMap)\n",
    "BostonMap"
   ]
  },
  {
   "cell_type": "markdown",
   "id": "a457de3f",
   "metadata": {},
   "source": [
    "# The END "
   ]
  }
 ],
 "metadata": {
  "kernelspec": {
   "display_name": "Python 3",
   "language": "python",
   "name": "python3"
  },
  "language_info": {
   "codemirror_mode": {
    "name": "ipython",
    "version": 3
   },
   "file_extension": ".py",
   "mimetype": "text/x-python",
   "name": "python",
   "nbconvert_exporter": "python",
   "pygments_lexer": "ipython3",
   "version": "3.8.8"
  }
 },
 "nbformat": 4,
 "nbformat_minor": 5
}
